{
  "nbformat": 4,
  "nbformat_minor": 0,
  "metadata": {
    "colab": {
      "provenance": []
    },
    "kernelspec": {
      "name": "python3",
      "display_name": "Python 3"
    },
    "language_info": {
      "name": "python"
    }
  },
  "cells": [
    {
      "cell_type": "code",
      "execution_count": null,
      "metadata": {
        "id": "9_q_76ELXAqz"
      },
      "outputs": [],
      "source": [
        "import torch\n",
        "import torch.nn as nn\n",
        "import torch.optim as optim\n",
        "import pandas as pd\n",
        "from sklearn.model_selection import train_test_split\n",
        "from sklearn.preprocessing import MinMaxScaler"
      ]
    },
    {
      "cell_type": "code",
      "source": [
        "dataset1 = pd.read_csv('Mad_MLDATA.csv')\n",
        "X = dataset1[['Input']].values\n",
        "y = dataset1[['Output']].values"
      ],
      "metadata": {
        "id": "TsFfayddXT8L"
      },
      "execution_count": null,
      "outputs": []
    },
    {
      "cell_type": "code",
      "source": [
        "X_train, X_test, y_train, y_test = train_test_split(X, y, test_size=0.33, random_state=33)"
      ],
      "metadata": {
        "id": "xl-2Vfx1dGNb"
      },
      "execution_count": null,
      "outputs": []
    },
    {
      "cell_type": "code",
      "source": [
        "scaler = MinMaxScaler()\n",
        "X_train = scaler.fit_transform(X_train)\n",
        "X_test = scaler.transform(X_test)\n",
        "X_train_tensor = torch.tensor(X_train, dtype=torch.float32)\n",
        "y_train_tensor = torch.tensor(y_train, dtype=torch.float32).view(-1, 1)\n",
        "X_test_tensor = torch.tensor(X_test, dtype=torch.float32)\n",
        "y_test_tensor = torch.tensor(y_test, dtype=torch.float32).view(-1, 1)"
      ],
      "metadata": {
        "id": "fuVlfNuidQJT"
      },
      "execution_count": null,
      "outputs": []
    },
    {
      "cell_type": "code",
      "source": [
        "class NeuralNet(nn.Module):\n",
        "  def __init__(self):\n",
        "    super().__init__()\n",
        "    self.l1=nn.Linear(1,6)\n",
        "    self.l2=nn.Linear(6,12)\n",
        "    self.l3=nn.Linear(12,20)\n",
        "    self.l4=nn.Linear(20,1)\n",
        "    self.relu=nn.ReLU()\n",
        "    self.history={'loss':[]}\n",
        "  def forward(self,x):\n",
        "    x=self.relu(self.l1(x))\n",
        "    x=self.relu(self.l2(x))\n",
        "    x=self.relu(self.l3(x))\n",
        "    x=self.l4(x)\n",
        "    return x\n",
        "\n",
        "\n",
        "my_model=NeuralNet()\n",
        "criterion=nn.MSELoss()\n",
        "optimizer=optim.RMSprop(my_model.parameters(),lr=0.001)"
      ],
      "metadata": {
        "id": "Y5vR0siPdSRG"
      },
      "execution_count": null,
      "outputs": []
    },
    {
      "cell_type": "code",
      "source": [
        "def train_model(my_model, X_train, y_train, criterion, optimizer, epochs=2000):\n",
        "  for i in range(epochs):\n",
        "    optimizer.zero_grad()\n",
        "    loss=criterion(my_model(X_train),y_train)\n",
        "    loss.backward()\n",
        "    optimizer.step()\n",
        "    my_model.history['loss'].append(loss.item())\n",
        "    if i % 200 == 0:\n",
        "      print(f'Epoch [{i}/{epochs}], Loss: {loss.item():.6f}')"
      ],
      "metadata": {
        "id": "z541xZ0MdULf"
      },
      "execution_count": null,
      "outputs": []
    },
    {
      "cell_type": "code",
      "source": [
        "train_model(my_model, X_train_tensor, y_train_tensor, criterion, optimizer)"
      ],
      "metadata": {
        "colab": {
          "base_uri": "https://localhost:8080/"
        },
        "id": "E0FT_B8QdWWO",
        "outputId": "cf8f778d-9b3a-452b-8ed9-5e234e7be35c"
      },
      "execution_count": null,
      "outputs": [
        {
          "output_type": "stream",
          "name": "stdout",
          "text": [
            "Epoch [0/2000], Loss: 13017.588867\n",
            "Epoch [200/2000], Loss: 5784.979980\n",
            "Epoch [400/2000], Loss: 781.878174\n",
            "Epoch [600/2000], Loss: 440.743164\n",
            "Epoch [800/2000], Loss: 126.997353\n",
            "Epoch [1000/2000], Loss: 12.672617\n",
            "Epoch [1200/2000], Loss: 1.565645\n",
            "Epoch [1400/2000], Loss: 0.154154\n",
            "Epoch [1600/2000], Loss: 0.122362\n",
            "Epoch [1800/2000], Loss: 0.106224\n"
          ]
        }
      ]
    },
    {
      "cell_type": "code",
      "source": [
        "with torch.no_grad():\n",
        "    test_loss = criterion(my_model(X_test_tensor), y_test_tensor)\n",
        "    print(f'Test Loss: {test_loss.item():.6f}')"
      ],
      "metadata": {
        "colab": {
          "base_uri": "https://localhost:8080/"
        },
        "id": "ADr1Nk4sdYf_",
        "outputId": "5c76d112-2487-4f68-cd6d-337051e08f4e"
      },
      "execution_count": null,
      "outputs": [
        {
          "output_type": "stream",
          "name": "stdout",
          "text": [
            "Test Loss: 9.102865\n"
          ]
        }
      ]
    },
    {
      "cell_type": "code",
      "source": [
        "loss_df = pd.DataFrame(my_model.history)"
      ],
      "metadata": {
        "id": "gVJK01N0dbF4"
      },
      "execution_count": null,
      "outputs": []
    },
    {
      "cell_type": "code",
      "source": [
        "import matplotlib.pyplot as plt\n",
        "loss_df.plot()\n",
        "plt.xlabel(\"Epochs\")\n",
        "plt.ylabel(\"Loss\")\n",
        "plt.title(\"Loss during Training\")\n",
        "plt.show()"
      ],
      "metadata": {
        "colab": {
          "base_uri": "https://localhost:8080/",
          "height": 472
        },
        "id": "J3s_d94bdc5r",
        "outputId": "0f00eb09-6e45-4dd7-9877-dee7c47fcf9e"
      },
      "execution_count": null,
      "outputs": [
        {
          "output_type": "display_data",
          "data": {
            "text/plain": [
              "<Figure size 640x480 with 1 Axes>"
            ],
            "image/png": "[encoded data removed]"
          },
          "metadata": {}
        }
      ]
    },
    {
      "cell_type": "code",
      "source": [
        "X_n1_1 = torch.tensor([[20]], dtype=torch.float32)\n",
        "prediction = my_model(torch.tensor(scaler.transform(X_n1_1), dtype=torch.float32)).item()\n",
        "print(f'Prediction: {prediction}')"
      ],
      "metadata": {
        "colab": {
          "base_uri": "https://localhost:8080/"
        },
        "id": "1h4XVMZLdeeN",
        "outputId": "2a2a2662-1ace-418a-ef33-3196a1bb002c"
      },
      "execution_count": null,
      "outputs": [
        {
          "output_type": "stream",
          "name": "stdout",
          "text": [
            "Prediction: 200.45703125\n"
          ]
        }
      ]
    },
    {
      "cell_type": "code",
      "source": [],
      "metadata": {
        "id": "bPOSqP8sdgbQ"
      },
      "execution_count": null,
      "outputs": []
    }
  ]
}